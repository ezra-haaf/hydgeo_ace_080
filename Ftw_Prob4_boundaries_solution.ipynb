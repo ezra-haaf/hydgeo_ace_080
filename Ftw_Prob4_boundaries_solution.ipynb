{
 "cells": [
  {
   "cell_type": "markdown",
   "id": "composed-stable",
   "metadata": {},
   "source": [
    "## Calculate drawdown with boundaries\n",
    "\n",
    "### Problem 4"
   ]
  },
  {
   "cell_type": "markdown",
   "id": "shaped-zealand",
   "metadata": {},
   "source": [
    "A well in an unconfined, 10m thick aquifer is pumped to stationary conditions with Q=300L/min. The initial  groundwater level is 1m below ground. The drawdown in OW1 is 1.25 m and in OW3 2,65 m.\n",
    "\n",
    "**Estimate K and the drawdown in OW2!**"
   ]
  },
  {
   "cell_type": "markdown",
   "id": "exact-binding",
   "metadata": {},
   "source": [
    "<img src=\"site_bound.png\" alt=\"Map\" style=\"width: 200px;\"/>"
   ]
  },
  {
   "cell_type": "markdown",
   "id": "fitting-baker",
   "metadata": {},
   "source": [
    "Coordinates:<br>\n",
    "Well: 0,0<br>\n",
    "OW1: 50,5<br>\n",
    "OW2: -80, -20<br>\n",
    "OW3: 10,10<br>\n",
    "Lake: -130<br>\n"
   ]
  },
  {
   "cell_type": "code",
   "execution_count": 56,
   "id": "african-assignment",
   "metadata": {},
   "outputs": [
    {
     "name": "stdout",
     "output_type": "stream",
     "text": [
      "0.005\n"
     ]
    }
   ],
   "source": [
    "Q=300/1000/60\n",
    "b=10\n",
    "gwl=b-1\n",
    "s_OW1=1.25\n",
    "s_OW3=2.65\n",
    "h_OW1=gwl-s_OW1\n",
    "h_OW3=gwl-s_OW3\n",
    "print(Q)"
   ]
  },
  {
   "cell_type": "code",
   "execution_count": 13,
   "id": "joint-celtic",
   "metadata": {},
   "outputs": [
    {
     "name": "stdout",
     "output_type": "stream",
     "text": [
      "50.24937810560445\n",
      "14.142135623730951\n"
     ]
    }
   ],
   "source": [
    "import math\n",
    "r_OW1=math.sqrt(50**2+5**2)\n",
    "r_OW3=math.sqrt(10**2+10**2)\n",
    "print(r_OW1)\n",
    "print(r_OW3)"
   ]
  },
  {
   "cell_type": "code",
   "execution_count": 54,
   "id": "studied-territory",
   "metadata": {},
   "outputs": [
    {
     "name": "stdout",
     "output_type": "stream",
     "text": [
      "0.00010222032497242447\n"
     ]
    }
   ],
   "source": [
    "import math\n",
    "K=(Q*math.log(r_OW1/r_OW3))/(math.pi*((h_OW1)**2-(h_OW3)**2))\n",
    "print(K)"
   ]
  },
  {
   "cell_type": "markdown",
   "id": "valid-planner",
   "metadata": {},
   "source": [
    "### Add mirror well:\n",
    "First: calculate expected drawdown without recharge boundary:\n",
    "1. Calculate radial distance\n",
    "2. Calculate head and drawdown at OW_2"
   ]
  },
  {
   "cell_type": "code",
   "execution_count": 57,
   "id": "introductory-satellite",
   "metadata": {},
   "outputs": [
    {
     "name": "stdout",
     "output_type": "stream",
     "text": [
      "0.7674515512910709\n"
     ]
    }
   ],
   "source": [
    "r_OW2=math.sqrt(80**2+20**2)\n",
    "h_OW2 = math.sqrt(Q*math.log(r_OW2/r_OW3)/(math.pi*K)+h_OW3**2)\n",
    "s_OW2 = gwl- h_OW2\n",
    "print(s_OW2)"
   ]
  },
  {
   "cell_type": "markdown",
   "id": "answering-joseph",
   "metadata": {},
   "source": [
    "Drawdown reduced through mirror well:\n",
    "1. Calculate distance to OW_2 from mirror well\n",
    "2. Calculate head and drawdown at OW_2 from mirror well\n",
    "3. Subtract OW_2 mirror well drawdown from OW_2 drawdown"
   ]
  },
  {
   "cell_type": "code",
   "execution_count": 62,
   "id": "macro-metro",
   "metadata": {},
   "outputs": [
    {
     "name": "stdout",
     "output_type": "stream",
     "text": [
      "0.6957478206687036\n"
     ]
    }
   ],
   "source": [
    "r_lake=130\n",
    "r_OW2_m=r_lake-r_OW2+r_lake\n",
    "\n",
    "h_OW2_m = math.sqrt(Q*math.log(r_OW2_m/r_OW3)/(math.pi*K)+h_OW3**2)\n",
    "s_OW2_m = gwl- h_OW2_m\n",
    "print(s_OW2-s_OW2_m)"
   ]
  }
 ],
 "metadata": {
  "kernelspec": {
   "display_name": "Python 3",
   "language": "python",
   "name": "python3"
  },
  "language_info": {
   "codemirror_mode": {
    "name": "ipython",
    "version": 3
   },
   "file_extension": ".py",
   "mimetype": "text/x-python",
   "name": "python",
   "nbconvert_exporter": "python",
   "pygments_lexer": "ipython3",
   "version": "3.8.6"
  }
 },
 "nbformat": 4,
 "nbformat_minor": 5
}
