{
 "cells": [
  {
   "cell_type": "markdown",
   "id": "sharing-being",
   "metadata": {},
   "source": [
    "## Calculate drawdown with boundaries\n",
    "\n",
    "### Problem 4"
   ]
  },
  {
   "cell_type": "markdown",
   "id": "infinite-circumstances",
   "metadata": {},
   "source": [
    "A well in an unconfined, 10m thick aquifer is pumped to stationary conditions with Q=300L/min. The initial  groundwater level is 1m below ground. The drawdown in OW1 is 1.25 m and in OW3 2,65 m.\n",
    "\n",
    "**Estimate K and the drawdown in OW2!**"
   ]
  },
  {
   "cell_type": "markdown",
   "id": "handmade-clinton",
   "metadata": {},
   "source": [
    "<img src=\"site_bound.png\" alt=\"Map\" style=\"width: 200px;\"/>"
   ]
  },
  {
   "cell_type": "markdown",
   "id": "frank-prisoner",
   "metadata": {},
   "source": [
    "Coordinates:<br>\n",
    "Well: 0,0<br>\n",
    "OW1: 50,5<br>\n",
    "OW2: -80, -20<br>\n",
    "OW3: 10,10<br>\n",
    "Lake: -130<br>\n"
   ]
  },
  {
   "cell_type": "code",
   "execution_count": 1,
   "id": "original-senate",
   "metadata": {},
   "outputs": [],
   "source": [
    "Q=300/1000/60"
   ]
  }
 ],
 "metadata": {
  "kernelspec": {
   "display_name": "Python 3",
   "language": "python",
   "name": "python3"
  },
  "language_info": {
   "codemirror_mode": {
    "name": "ipython",
    "version": 3
   },
   "file_extension": ".py",
   "mimetype": "text/x-python",
   "name": "python",
   "nbconvert_exporter": "python",
   "pygments_lexer": "ipython3",
   "version": "3.8.6"
  }
 },
 "nbformat": 4,
 "nbformat_minor": 5
}
