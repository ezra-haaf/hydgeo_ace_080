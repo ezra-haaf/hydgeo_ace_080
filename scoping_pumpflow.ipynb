{
 "cells": [
  {
   "cell_type": "markdown",
   "id": "monthly-hungarian",
   "metadata": {},
   "source": [
    "## Scoping pump flow\n",
    "\n",
    "From well drilling: 5m thick sand under 10 m clay. Similar conditions in 4 observation wells (r= 5, 20, 80, 180 m).\n",
    "Slug tests average: K=5E-4m/s, S=4E-4\n",
    "\n",
    "**What flow and duration should you aim for to get a measurable response in r180-OW?**<br>\n",
    "**What drawdown do you estimate in well (r=180) after 30 min?**<br>"
   ]
  }
 ],
 "metadata": {
  "kernelspec": {
   "display_name": "Python 3",
   "language": "python",
   "name": "python3"
  },
  "language_info": {
   "codemirror_mode": {
    "name": "ipython",
    "version": 3
   },
   "file_extension": ".py",
   "mimetype": "text/x-python",
   "name": "python",
   "nbconvert_exporter": "python",
   "pygments_lexer": "ipython3",
   "version": "3.8.6"
  }
 },
 "nbformat": 4,
 "nbformat_minor": 5
}
