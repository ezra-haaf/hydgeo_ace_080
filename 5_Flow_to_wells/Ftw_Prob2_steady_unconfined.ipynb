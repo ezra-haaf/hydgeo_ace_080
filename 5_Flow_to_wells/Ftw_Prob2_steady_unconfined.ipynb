{
 "cells": [
  {
   "cell_type": "markdown",
   "id": "unique-protocol",
   "metadata": {},
   "source": [
    "### Problem 2"
   ]
  },
  {
   "cell_type": "markdown",
   "id": "turned-techno",
   "metadata": {},
   "source": [
    "During a pumping test, the abstraction rate is $Q=246.2 m^3 h^{-1}$. In the observation wells 1 and 2, the hydraulic heads are $h_1=6.77 m$ and $h_2=7.37 m$, while the distances to the pumping well are $r_1=300 m$ and $r_2=500 m$. The thickness of the saturated zone is $10 m$.\n",
    "\n",
    "**Calculate K according to Thiem for unconfined aquifers.**\n",
    "\n",
    "$Q=\\pi K\\frac{h_2^2-h_1^2}{ln{\\frac{r_2}{r_1}}}$\n",
    "\n",
    "**Calculate K according to Thiem for confined with corrected h.**\n",
    "\n",
    "$h_{corr}=h-\\frac{h^2}{2b}$"
   ]
  },
  {
   "cell_type": "code",
   "execution_count": 1,
   "id": "impressed-cement",
   "metadata": {},
   "outputs": [],
   "source": [
    "Q=246.2/3600\n",
    "b=10\n",
    "h1=6.77\n",
    "h2=7.37\n",
    "r1=300\n",
    "r2=500"
   ]
  },
  {
   "cell_type": "markdown",
   "id": "worse-answer",
   "metadata": {},
   "source": [
    "##### Thiem for unconfined:"
   ]
  },
  {
   "cell_type": "code",
   "execution_count": null,
   "id": "different-conditions",
   "metadata": {},
   "outputs": [],
   "source": []
  },
  {
   "cell_type": "markdown",
   "id": "palestinian-hollywood",
   "metadata": {},
   "source": [
    "##### Correction method Jacob"
   ]
  },
  {
   "cell_type": "code",
   "execution_count": null,
   "id": "pregnant-workstation",
   "metadata": {},
   "outputs": [],
   "source": []
  }
 ],
 "metadata": {
  "kernelspec": {
   "display_name": "Python 3",
   "language": "python",
   "name": "python3"
  },
  "language_info": {
   "codemirror_mode": {
    "name": "ipython",
    "version": 3
   },
   "file_extension": ".py",
   "mimetype": "text/x-python",
   "name": "python",
   "nbconvert_exporter": "python",
   "pygments_lexer": "ipython3",
   "version": "3.8.6"
  }
 },
 "nbformat": 4,
 "nbformat_minor": 5
}
